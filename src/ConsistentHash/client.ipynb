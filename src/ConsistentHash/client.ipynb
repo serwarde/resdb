{
 "cells": [
  {
   "cell_type": "markdown",
   "metadata": {},
   "source": [
    "# client works on Request-Reply mode"
   ]
  },
  {
   "cell_type": "code",
   "execution_count": 22,
   "metadata": {},
   "outputs": [
    {
     "name": "stdout",
     "output_type": "stream",
     "text": [
      "response: b'TestResponse'\n"
     ]
    }
   ],
   "source": [
    "import zmq\n",
    "import sys\n",
    "\n",
    "# client works on Request-Reply mode\n",
    "\n",
    "context = zmq.Context()\n",
    "socket = context.socket(zmq.REQ)\n",
    "socket.connect(\"tcp://localhost:7000\")\n",
    "\n",
    "socket.send(b'i am client,i send you a message')\n",
    "response = socket.recv();\n",
    "print(\"response: %s\" % response)\n"
   ]
  },
  {
   "cell_type": "markdown",
   "metadata": {},
   "source": [
    "# client works on Request-Reply mode\n"
   ]
  },
  {
   "cell_type": "code",
   "execution_count": null,
   "metadata": {},
   "outputs": [],
   "source": [
    "import gevent\n",
    "import time\n",
    "import zmq.green as zmq\n",
    "\n",
    "_BINDING = 'tcp://127.0.0.1:7000'\n",
    "context = zmq.Context()\n",
    "\n",
    "def client():\n",
    "    client_socket = context.socket(zmq.REQ)\n",
    "    client_socket.connect(_BINDING)\n",
    "    client_socket.send_string(\"TestMessage\")\n",
    "    response = client_socket.recv()\n",
    "    print(\"Response: [{}] at {}\".format(response, time.time()))\n",
    "\n",
    "client = gevent.spawn(client)\n",
    "#clients = [client for i in range(1000)]\n",
    "client.join()\n"
   ]
  },
  {
   "cell_type": "markdown",
   "metadata": {},
   "source": [
    "# client works on Publish-Subscribe mode"
   ]
  },
  {
   "cell_type": "code",
   "execution_count": null,
   "metadata": {},
   "outputs": [
    {
     "name": "stdout",
     "output_type": "stream",
     "text": [
      "response: b'message1'\n",
      "response: b'message2'\n",
      "response: b'message3'\n",
      "response: b'message4'\n",
      "response: b'message5'\n",
      "response: b'message6'\n",
      "response: b'message7'\n",
      "response: b'message8'\n",
      "response: b'message9'\n"
     ]
    }
   ],
   "source": [
    "import zmq\n",
    " \n",
    "context = zmq.Context()\n",
    "socket = context.socket(zmq.SUB)\n",
    "socket.connect(\"tcp://localhost:7000\")\n",
    "socket.setsockopt(zmq.SUBSCRIBE, b'')\n",
    "while True:\n",
    "    response = socket.recv()\n",
    "    print(\"response: %s\" % response)"
   ]
  },
  {
   "cell_type": "code",
   "execution_count": null,
   "metadata": {},
   "outputs": [],
   "source": []
  }
 ],
 "metadata": {
  "kernelspec": {
   "display_name": "Python 3",
   "language": "python",
   "name": "python3"
  },
  "language_info": {
   "codemirror_mode": {
    "name": "ipython",
    "version": 3
   },
   "file_extension": ".py",
   "mimetype": "text/x-python",
   "name": "python",
   "nbconvert_exporter": "python",
   "pygments_lexer": "ipython3",
   "version": "3.8.5"
  }
 },
 "nbformat": 4,
 "nbformat_minor": 4
}
