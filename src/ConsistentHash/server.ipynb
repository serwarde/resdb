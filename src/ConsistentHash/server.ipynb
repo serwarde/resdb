{
 "cells": [
  {
   "cell_type": "code",
   "execution_count": 12,
   "metadata": {},
   "outputs": [
    {
     "name": "stdout",
     "output_type": "stream",
     "text": [
      "10.10.1.1=39nresult=['hashing', 'is', 'of', 'hashing', 'such', 'table', 'is', 'only', 'K/n', 'be', 'where', 'K', 'is', 'the', 'number', 'of', 'keys,', 'and', 'n', 'is', 'the', 'number', 'of', 'slots.', 'traditional', 'the', 'number', 'of', 'slots', 'nearly', 'all', 'be', 'the', 'the', 'and', 'the', 'slots', 'is', 'defined']\n",
      "10.10.2.2=3nresult=['that', 'average,', 'between']\n",
      "10.10.3.3=33nresult=['In', 'computer', 'science,', 'a', 'special', 'kind', 'when', 'a', 'hash', 'resized,', 'keys', 'need', 'to', 'remapped', 'on', 'In', 'in', 'most', 'hash', 'a', 'change', 'in', 'array', 'causes', 'keys', 'to', 'remapped', 'mapping', 'keys', 'by', 'a', 'modular', 'operation.']\n",
      "10.10.4.4=4nresult=['consistent', 'contrast,', 'tables,', 'because']\n"
     ]
    }
   ],
   "source": [
    "import hashlib\n",
    "\n",
    "content = \"\"\"In computer science, consistent hashing is a special kind of \n",
    "hashing such that when a hash table is resized, only K/n keys need to be \n",
    "remapped on average, where K is the number of keys, and n is the number of \n",
    "slots. In contrast, in most traditional hash tables, a change in the number \n",
    "of array slots causes nearly all keys to be remapped because the mapping \n",
    "between the keys and the slots is defined by a modular operation.\"\"\"\n",
    "\n",
    "servers = [\n",
    "    \"10.10.1.1\",\n",
    "    \"10.10.2.2\",\n",
    "    \"10.10.3.3\",\n",
    "    \"10.10.4.4\",\n",
    "]\n",
    "\n",
    "\n",
    "class HashRing:\n",
    "    def __init__(self, nodes=None, replicas=3):\n",
    "        \"\"\"\n",
    "        initialize\n",
    "        \"\"\"\n",
    "        self.replicas = replicas\n",
    "        self.ring = dict()\n",
    "        self._sorted_keys = []\n",
    "\n",
    "        if nodes:\n",
    "            for node in nodes:\n",
    "                self.add_node(node)\n",
    "                \n",
    "    def add_node(self, node):\n",
    "        \"\"\"\n",
    "        Adds a `node` to the hash ring (including a number of replicas)\n",
    "        \"\"\"\n",
    "        for i in range(self.replicas):\n",
    "            virtual_node = f\"{node}#{i}\"\n",
    "            key = self.gen_key(virtual_node)\n",
    "            self.ring[key] = node\n",
    "            self._sorted_keys.append(key)\n",
    "            # print(f\"{virtual_node} --> {key} --> {node}\")\n",
    "\n",
    "        self._sorted_keys.sort()\n",
    "        # print([self.ring[key] for key in self._sorted_keys])\n",
    "\n",
    "    def remove_node(self, node):\n",
    "        \"\"\"\n",
    "        Removes `node` from the hash ring and its replicas\n",
    "        \"\"\"\n",
    "        for i in range(self.replicas):\n",
    "            key = self.gen_key(f\"{node}#{i}\")\n",
    "            del self.ring[key]\n",
    "            self._sorted_keys.remove(key)\n",
    "\n",
    "    def get_node(self, string_key):\n",
    "        \"\"\"\n",
    "        Given a string key， a corresponding node in the hash ring is returned.\n",
    "\n",
    "        If the hash ring is empty, `None` is returned.\n",
    "        \"\"\"\n",
    "        return self.get_node_pos(string_key)[0]\n",
    "\n",
    "    def get_node_pos(self, string_key):\n",
    "        \"\"\"\n",
    "        Given a string key， a corresponding node in the hash ring is returned\n",
    "        along with it's position in the ring.\n",
    "\n",
    "        If the hash ring is empty, (`None`, `None`) is returned.\n",
    "        \"\"\"\n",
    "        if not self.ring:\n",
    "            return None, None\n",
    "\n",
    "        key = self.gen_key(string_key)\n",
    "        nodes = self._sorted_keys\n",
    "        for i in range(len(nodes)):\n",
    "            node = nodes[i]\n",
    "            if key < node:\n",
    "                return self.ring[node], i\n",
    "\n",
    "       \n",
    "        return self.ring[nodes[0]], 0\n",
    "\n",
    "    def gen_key(self, string_key):\n",
    "        \"\"\"\n",
    "        Given a string key, it returns a long value, this long value represents\n",
    "        a place on the hash ring\n",
    "        \"\"\"\n",
    "        m = hashlib.md5()\n",
    "        m.update(string_key.encode('utf-8'))  \n",
    "        return m.hexdigest() \n",
    "\n",
    "    \n",
    "    def redistribute_objects(self, node):\n",
    "       # TODO：think about how to redistribute objects after add or delete the node\n",
    "         pass\n",
    "\n",
    "def consistent_hash(replicas):\n",
    "    hr = HashRing(servers, replicas)\n",
    "    words = content.split()\n",
    "\n",
    "    database = {s: [] for s in servers}\n",
    "\n",
    "    for w in words:\n",
    "        database[hr.get_node(w)].append(w)\n",
    "\n",
    "    # print(f\"words={len(words)}n\")\n",
    "\n",
    "    for node, result in database.items():\n",
    "        print(f\"{node}={len(result)}nresult={result}\")\n",
    "\n",
    "\n",
    "if __name__ == '__main__':\n",
    "    consistent_hash(3)"
   ]
  },
  {
   "cell_type": "code",
   "execution_count": null,
   "metadata": {},
   "outputs": [],
   "source": [
    "import zmq\n",
    "import sys\n",
    "# server\n",
    "context = zmq.Context()\n",
    "socket = context.socket(zmq.REP)\n",
    "socket.bind(\"tcp://*:5556\")\n",
    "\n",
    "while True:\n",
    "    message = socket.recv()\n",
    "    print(\"Received: %s\" % message)\n",
    "    socket.send(b\"I am server, i have receive your message\")\n",
    "    \n",
    "# to do\n",
    "# if the sever goes down, we need send the request to another node, but if the client goes down, do we need take some action?"
   ]
  },
  {
   "cell_type": "code",
   "execution_count": null,
   "metadata": {},
   "outputs": [],
   "source": []
  },
  {
   "cell_type": "code",
   "execution_count": null,
   "metadata": {},
   "outputs": [],
   "source": []
  },
  {
   "cell_type": "code",
   "execution_count": null,
   "metadata": {},
   "outputs": [],
   "source": []
  },
  {
   "cell_type": "code",
   "execution_count": null,
   "metadata": {},
   "outputs": [],
   "source": []
  },
  {
   "cell_type": "code",
   "execution_count": null,
   "metadata": {},
   "outputs": [],
   "source": []
  },
  {
   "cell_type": "code",
   "execution_count": null,
   "metadata": {},
   "outputs": [],
   "source": []
  },
  {
   "cell_type": "code",
   "execution_count": null,
   "metadata": {},
   "outputs": [],
   "source": []
  },
  {
   "cell_type": "code",
   "execution_count": null,
   "metadata": {},
   "outputs": [],
   "source": []
  },
  {
   "cell_type": "code",
   "execution_count": null,
   "metadata": {},
   "outputs": [],
   "source": []
  },
  {
   "cell_type": "code",
   "execution_count": null,
   "metadata": {},
   "outputs": [],
   "source": [
    "\n"
   ]
  },
  {
   "cell_type": "markdown",
   "metadata": {},
   "source": [
    "# server works on Request-Reply mode"
   ]
  },
  {
   "cell_type": "code",
   "execution_count": null,
   "metadata": {},
   "outputs": [],
   "source": [
    "# sever \n",
    "import gevent\n",
    "import time\n",
    "import zmq.green as zmq\n",
    "\n",
    "_BINDING = 'tcp://127.0.0.1:7000'\n",
    "context = zmq.Context()\n",
    "\n",
    "def server():\n",
    "    server_socket = context.socket(zmq.REP)\n",
    "    server_socket.bind(_BINDING)\n",
    "\n",
    "    while True:\n",
    "        received = server_socket.recv()\n",
    "        print(\"Received: [{}]\\n\".format(received))\n",
    "        server_socket.send_string('TestResponse')\n",
    "\n",
    "server = gevent.spawn(server)\n",
    "server.join()"
   ]
  },
  {
   "cell_type": "markdown",
   "metadata": {},
   "source": [
    "# server works on Publish-Subscribe mode"
   ]
  },
  {
   "cell_type": "code",
   "execution_count": 12,
   "metadata": {},
   "outputs": [
    {
     "name": "stdout",
     "output_type": "stream",
     "text": [
      "send message...0\n",
      "send message...1\n",
      "send message...2\n",
      "send message...3\n",
      "send message...4\n",
      "send message...5\n",
      "send message...6\n",
      "send message...7\n",
      "send message...8\n",
      "send message...9\n"
     ]
    }
   ],
   "source": [
    "import zmq\n",
    "import time\n",
    " \n",
    "context = zmq.Context()\n",
    "socket = context.socket(zmq.PUB)\n",
    "socket.bind(\"tcp://*:7000\")\n",
    " \n",
    "for i in range(10):\n",
    "    print('send message...' + str(i))\n",
    "    message = 'message' + str(i) \n",
    "    socket.send(bytes(message, encoding = \"utf8\"))\n",
    "    time.sleep(1)"
   ]
  },
  {
   "cell_type": "code",
   "execution_count": null,
   "metadata": {},
   "outputs": [],
   "source": []
  }
 ],
 "metadata": {
  "kernelspec": {
   "display_name": "Python 3",
   "language": "python",
   "name": "python3"
  },
  "language_info": {
   "codemirror_mode": {
    "name": "ipython",
    "version": 3
   },
   "file_extension": ".py",
   "mimetype": "text/x-python",
   "name": "python",
   "nbconvert_exporter": "python",
   "pygments_lexer": "ipython3",
   "version": "3.8.5"
  }
 },
 "nbformat": 4,
 "nbformat_minor": 4
}
